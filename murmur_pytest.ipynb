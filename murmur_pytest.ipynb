{
 "cells": [
  {
   "cell_type": "markdown",
   "metadata": {},
   "source": [
    "# binary exercises, just to make sure murmur implementation is correct"
   ]
  },
  {
   "cell_type": "code",
   "execution_count": 2,
   "metadata": {},
   "outputs": [],
   "source": [
    "import numpy as np"
   ]
  },
  {
   "cell_type": "code",
   "execution_count": 3,
   "metadata": {},
   "outputs": [],
   "source": [
    "# Rotate left: 0b1001 --> 0b0011\n",
    "rol = lambda val, r_bits, max_bits: \\\n",
    "    (val << r_bits%max_bits) & (2**max_bits-1) | \\\n",
    "    ((val & (2**max_bits-1)) >> (max_bits-(r_bits%max_bits)))\n",
    " \n",
    "# Rotate right: 0b1001 --> 0b1100\n",
    "ror = lambda val, r_bits, max_bits: \\\n",
    "    ((val & (2**max_bits-1)) >> r_bits%max_bits) | \\\n",
    "    (val << (max_bits-(r_bits%max_bits)) & (2**max_bits-1))"
   ]
  },
  {
   "cell_type": "code",
   "execution_count": 4,
   "metadata": {},
   "outputs": [
    {
     "name": "stdout",
     "output_type": "stream",
     "text": [
      "11000000000000000000000000000000  0 11000000000000000000000000000000\n",
      "11000000000000000000000000000000  1 10000000000000000000000000000001\n",
      "11000000000000000000000000000000  2                               11\n",
      "11000000000000000000000000000000  3                              110\n",
      "11000000000000000000000000000000  4                             1100\n",
      "11000000000000000000000000000000  5                            11000\n",
      "11000000000000000000000000000000  6                           110000\n",
      "11000000000000000000000000000000  7                          1100000\n",
      "11000000000000000000000000000000  8                         11000000\n",
      "11000000000000000000000000000000  9                        110000000\n",
      "11000000000000000000000000000000 10                       1100000000\n",
      "11000000000000000000000000000000 11                      11000000000\n",
      "11000000000000000000000000000000 12                     110000000000\n",
      "11000000000000000000000000000000 13                    1100000000000\n",
      "11000000000000000000000000000000 14                   11000000000000\n",
      "11000000000000000000000000000000 15                  110000000000000\n",
      "11000000000000000000000000000000 16                 1100000000000000\n",
      "11000000000000000000000000000000 17                11000000000000000\n",
      "11000000000000000000000000000000 18               110000000000000000\n",
      "11000000000000000000000000000000 19              1100000000000000000\n",
      "11000000000000000000000000000000 20             11000000000000000000\n",
      "11000000000000000000000000000000 21            110000000000000000000\n",
      "11000000000000000000000000000000 22           1100000000000000000000\n",
      "11000000000000000000000000000000 23          11000000000000000000000\n",
      "11000000000000000000000000000000 24         110000000000000000000000\n",
      "11000000000000000000000000000000 25        1100000000000000000000000\n",
      "11000000000000000000000000000000 26       11000000000000000000000000\n",
      "11000000000000000000000000000000 27      110000000000000000000000000\n",
      "11000000000000000000000000000000 28     1100000000000000000000000000\n",
      "11000000000000000000000000000000 29    11000000000000000000000000000\n",
      "11000000000000000000000000000000 30   110000000000000000000000000000\n"
     ]
    }
   ],
   "source": [
    "max_bits = 32\n",
    " \n",
    "for i in range(0, max_bits-1):\n",
    "    value = np.uint32(0xC0000000)\n",
    "    newval = np.uint32(rol(value, i, max_bits))\n",
    "    print(\"{0:32b}\".format(value), \"{0:2}\".format(i),  \"{0:32b}\".format(newval))"
   ]
  },
  {
   "cell_type": "code",
   "execution_count": 7,
   "metadata": {},
   "outputs": [
    {
     "name": "stdout",
     "output_type": "stream",
     "text": [
      "87bd4012\n",
      "470ee7a\n",
      "195f42ab\n"
     ]
    },
    {
     "name": "stderr",
     "output_type": "stream",
     "text": [
      "/home/psenin/anaconda3/lib/python3.7/site-packages/ipykernel_launcher.py:14: RuntimeWarning: overflow encountered in uint_scalars\n",
      "  \n",
      "/home/psenin/anaconda3/lib/python3.7/site-packages/ipykernel_launcher.py:17: RuntimeWarning: overflow encountered in uint_scalars\n",
      "/home/psenin/anaconda3/lib/python3.7/site-packages/ipykernel_launcher.py:23: RuntimeWarning: overflow encountered in uint_scalars\n"
     ]
    }
   ],
   "source": [
    "seed = np.uint32(0xBAADF00D)\n",
    "chunk = np.uint32(0x636f7272)\n",
    "#\n",
    "# following the MurMur3 logic\n",
    "#\n",
    "c1 = np.uint32(0xcc9e2d51)\n",
    "c2 = np.uint32(0x1b873593)\n",
    "r1 = np.uint32(15)\n",
    "r2 = np.uint32(13)\n",
    "m = np.uint32(5)\n",
    "n = np.uint32(0xe6546b64)\n",
    "\n",
    "k = np.uint32(chunk)\n",
    "k = k * c1\n",
    "print(\"{0:x}\".format(k))\n",
    "k = np.uint32(rol(k, 15, 32)) # ROL15\n",
    "k = k * c2\n",
    "print(\"{0:x}\".format(k))\n",
    "\n",
    "key = seed\n",
    "key = key ^ k\n",
    "key = np.uint32(rol(key, 13, 32)) # ROL13\n",
    "key = key * m + n\n",
    "\n",
    "print(\"{0:x}\".format(key))"
   ]
  },
  {
   "cell_type": "code",
   "execution_count": 6,
   "metadata": {},
   "outputs": [
    {
     "data": {
      "text/plain": [
       "3864292196"
      ]
     },
     "execution_count": 6,
     "metadata": {},
     "output_type": "execute_result"
    }
   ],
   "source": [
    "np.uint32(0xe6546b64)"
   ]
  },
  {
   "cell_type": "code",
   "execution_count": 7,
   "metadata": {},
   "outputs": [],
   "source": [
    "dc = 0b111111111111000000000000\n",
    "dd = 0xBAADF00D\n"
   ]
  }
 ],
 "metadata": {
  "kernelspec": {
   "display_name": "Python 3",
   "language": "python",
   "name": "python3"
  },
  "language_info": {
   "codemirror_mode": {
    "name": "ipython",
    "version": 3
   },
   "file_extension": ".py",
   "mimetype": "text/x-python",
   "name": "python",
   "nbconvert_exporter": "python",
   "pygments_lexer": "ipython3",
   "version": "3.7.0"
  }
 },
 "nbformat": 4,
 "nbformat_minor": 2
}
